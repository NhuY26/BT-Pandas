{
  "nbformat": 4,
  "nbformat_minor": 0,
  "metadata": {
    "colab": {
      "name": "BT Pandas_1.ipynb",
      "provenance": [],
      "authorship_tag": "ABX9TyMEcVUTXRMPV/2c3ugZ7fCV",
      "include_colab_link": true
    },
    "kernelspec": {
      "name": "python3",
      "display_name": "Python 3"
    },
    "language_info": {
      "name": "python"
    }
  },
  "cells": [
    {
      "cell_type": "markdown",
      "metadata": {
        "id": "view-in-github",
        "colab_type": "text"
      },
      "source": [
        "<a href=\"https://colab.research.google.com/github/NhuY26/BT-Pandas/blob/main/BT_Pandas_1.ipynb\" target=\"_parent\"><img src=\"https://colab.research.google.com/assets/colab-badge.svg\" alt=\"Open In Colab\"/></a>"
      ]
    },
    {
      "cell_type": "code",
      "execution_count": 1,
      "metadata": {
        "id": "Dq3R9_Eh0ce3"
      },
      "outputs": [],
      "source": [
        "import numpy as np\n",
        "import pandas as pd"
      ]
    },
    {
      "cell_type": "markdown",
      "source": [
        "Câu 1: Khởi tạo 1 Series với giá trị rỗng"
      ],
      "metadata": {
        "id": "luKySJMGPXWD"
      }
    },
    {
      "cell_type": "code",
      "source": [
        "pd.Series()"
      ],
      "metadata": {
        "colab": {
          "base_uri": "https://localhost:8080/"
        },
        "id": "5z6Rw_yV0jzk",
        "outputId": "6137a738-875e-4126-80aa-4fd99b8a15c7"
      },
      "execution_count": 2,
      "outputs": [
        {
          "output_type": "stream",
          "name": "stderr",
          "text": [
            "/usr/local/lib/python3.7/dist-packages/ipykernel_launcher.py:1: DeprecationWarning: The default dtype for empty Series will be 'object' instead of 'float64' in a future version. Specify a dtype explicitly to silence this warning.\n",
            "  \"\"\"Entry point for launching an IPython kernel.\n"
          ]
        },
        {
          "output_type": "execute_result",
          "data": {
            "text/plain": [
              "Series([], dtype: float64)"
            ]
          },
          "metadata": {},
          "execution_count": 2
        }
      ]
    },
    {
      "cell_type": "markdown",
      "source": [
        "Câu 2: Giả sử có 1 vector hàng a có kích thước (1x7) được biểu diễn trong NumPy, hãy tạo 1\n",
        "series tương ứng với các giá trị được sinh ngẫu nhiên."
      ],
      "metadata": {
        "id": "2Nz-7IYuPhvD"
      }
    },
    {
      "cell_type": "code",
      "source": [
        "a = np.random.randint(1,10,7)\n",
        "print(a)\n",
        "aa = pd.Series(a)\n",
        "aa"
      ],
      "metadata": {
        "colab": {
          "base_uri": "https://localhost:8080/"
        },
        "id": "JNkOYN2q0pXv",
        "outputId": "ac0ce941-e8b6-41ef-c451-aeedc0e525c3"
      },
      "execution_count": 3,
      "outputs": [
        {
          "output_type": "stream",
          "name": "stdout",
          "text": [
            "[4 4 8 7 6 1 3]\n"
          ]
        },
        {
          "output_type": "execute_result",
          "data": {
            "text/plain": [
              "0    4\n",
              "1    4\n",
              "2    8\n",
              "3    7\n",
              "4    6\n",
              "5    1\n",
              "6    3\n",
              "dtype: int64"
            ]
          },
          "metadata": {},
          "execution_count": 3
        }
      ]
    },
    {
      "cell_type": "markdown",
      "source": [
        "Câu 3: Giả sử có 1 vector hàng a có kích thước (1x7), hãy nhập các giá trị cho 7 phần tử này từ\n",
        "bàn phím và tạo series tương ứng."
      ],
      "metadata": {
        "id": "L5lgYyHDPkvj"
      }
    },
    {
      "cell_type": "code",
      "source": [
        "a = np.array([int(input(f\"nhap phan tu thu {i+1}: \")) for i in range(7)])\n",
        "print(\"Phan tu da nhap: \",a)\n",
        "print(\"series cua 7 phan tu bat ky: \")\n",
        "print(pd.Series(a))"
      ],
      "metadata": {
        "colab": {
          "base_uri": "https://localhost:8080/"
        },
        "id": "bpd8ngH_0tLt",
        "outputId": "d58296c8-a86c-49d8-d21f-e1cb77b39fc3"
      },
      "execution_count": 4,
      "outputs": [
        {
          "output_type": "stream",
          "name": "stdout",
          "text": [
            "nhap phan tu thu 1: 2\n",
            "nhap phan tu thu 2: 7\n",
            "nhap phan tu thu 3: 1\n",
            "nhap phan tu thu 4: 2\n",
            "nhap phan tu thu 5: 3\n",
            "nhap phan tu thu 6: 1\n",
            "nhap phan tu thu 7: 4\n",
            "Phan tu da nhap:  [2 7 1 2 3 1 4]\n",
            "series cua 7 phan tu bat ky: \n",
            "0    2\n",
            "1    7\n",
            "2    1\n",
            "3    2\n",
            "4    3\n",
            "5    1\n",
            "6    4\n",
            "dtype: int64\n"
          ]
        }
      ]
    },
    {
      "cell_type": "markdown",
      "source": [
        "Câu 4: Giả sử có 1 vector cột có kích thước (7x1) được biểu diễn trong NumPy, hãy tạo Series\n",
        "tương ứng."
      ],
      "metadata": {
        "id": "TCTeJ6TqPvkK"
      }
    },
    {
      "cell_type": "code",
      "source": [
        "a = np.random.randint(1,10,[7,1])\n",
        "a\n",
        "\n",
        "aa = a.reshape(7,)\n",
        "print(pd.Series(aa))"
      ],
      "metadata": {
        "colab": {
          "base_uri": "https://localhost:8080/"
        },
        "id": "DvQDaaYc08KT",
        "outputId": "62841dcd-71c6-4b96-dad3-94f842535998"
      },
      "execution_count": 5,
      "outputs": [
        {
          "output_type": "stream",
          "name": "stdout",
          "text": [
            "0    4\n",
            "1    5\n",
            "2    1\n",
            "3    6\n",
            "4    3\n",
            "5    6\n",
            "6    8\n",
            "dtype: int64\n"
          ]
        }
      ]
    },
    {
      "cell_type": "markdown",
      "source": [
        "Câu 5: Chuyển đổi dữ liệu, hãy thực hiện các yêu cầu sau:\n",
        "- Chuyển 1 list thành 1 series\n",
        "- Chuyển 1 tuple thành 1 series\n",
        "- Chuyển 1 dictionary thành 1 series"
      ],
      "metadata": {
        "id": "wZnFuxHHP0X7"
      }
    },
    {
      "cell_type": "code",
      "source": [
        "# list thành sẻies\n",
        "l1 = [1,2,3,4]\n",
        "print(\"list :\",l1)\n",
        "print(pd.Series(l1), \"\\n\")\n",
        "\n",
        "# tuple thành sẻié\n",
        "t1 = (1,3,4,5)\n",
        "print(\"tuple: \",t1)\n",
        "print(pd.Series(t1), \"\\n\")\n",
        "\n",
        "# dictionary thành sẻies\n",
        "d1 = {\"year\": 2003 , \"age\":18 }\n",
        "print(\"dictionary: \",d1)\n",
        "print(pd.Series(d1))"
      ],
      "metadata": {
        "colab": {
          "base_uri": "https://localhost:8080/"
        },
        "id": "ZnKdjhtM1Fc1",
        "outputId": "a65b615b-b5d3-45c7-950f-e054e0ec24ed"
      },
      "execution_count": 6,
      "outputs": [
        {
          "output_type": "stream",
          "name": "stdout",
          "text": [
            "list : [1, 2, 3, 4]\n",
            "0    1\n",
            "1    2\n",
            "2    3\n",
            "3    4\n",
            "dtype: int64 \n",
            "\n",
            "tuple:  (1, 3, 4, 5)\n",
            "0    1\n",
            "1    3\n",
            "2    4\n",
            "3    5\n",
            "dtype: int64 \n",
            "\n",
            "dictionary:  {'year': 2003, 'age': 18}\n",
            "year    2003\n",
            "age       18\n",
            "dtype: int64\n"
          ]
        }
      ]
    },
    {
      "cell_type": "markdown",
      "source": [
        "Câu 6: Mỗi phần tử của series đều gắn liền với các chỉ số (index) tương ứng, hãy tạo một series\n",
        "có kích thước (1x20) với giá trị ngẫu nhiên:\n",
        "- Xuất series ra màn hình\n",
        "- Xuất các chỉ số của series ra màn hình\n",
        "- Thay đổi cách đánh chỉ số mặc định của series từ đánh chỉ số bằng số nguyên sang các kiểu\n",
        "đánh chỉ số bằng label và in kết quả ra màn hình\n",
        "Gợi ý:\n",
        "- Hàm loc() dùng cho chỉ số label\n",
        "- Hàm iloc() dùng cho chỉ số đạng số nguyên\n",
        "- Hàm ix(): dùng cho cả 2 loại chỉ số trên"
      ],
      "metadata": {
        "id": "ETbBaOboP7ci"
      }
    },
    {
      "cell_type": "code",
      "source": [
        "x = pd.Series(np.random.randint(1,20,[20]))\n",
        "print(\"chi so cua series: \",x.index)\n",
        "\n",
        "print(x, \"\\n\")\n",
        "\n",
        "l1 = ['a','b','c','d','e','f','g','h','l','m','n','i','j','k','o','p','q','t','u','w']\n",
        "x.index=l1\n",
        "print(\"\\n\", x)"
      ],
      "metadata": {
        "colab": {
          "base_uri": "https://localhost:8080/"
        },
        "id": "uoH9C_7W1UPV",
        "outputId": "f2dcf756-a3bf-4aa6-a4c7-f9f8f1e99ff7"
      },
      "execution_count": 7,
      "outputs": [
        {
          "output_type": "stream",
          "name": "stdout",
          "text": [
            "chi so cua series:  RangeIndex(start=0, stop=20, step=1)\n",
            "0      8\n",
            "1     19\n",
            "2     14\n",
            "3      2\n",
            "4      3\n",
            "5      4\n",
            "6      7\n",
            "7      4\n",
            "8      9\n",
            "9     15\n",
            "10    11\n",
            "11     7\n",
            "12     7\n",
            "13     5\n",
            "14     8\n",
            "15    15\n",
            "16    15\n",
            "17     5\n",
            "18    19\n",
            "19     1\n",
            "dtype: int64 \n",
            "\n",
            "\n",
            " a     8\n",
            "b    19\n",
            "c    14\n",
            "d     2\n",
            "e     3\n",
            "f     4\n",
            "g     7\n",
            "h     4\n",
            "l     9\n",
            "m    15\n",
            "n    11\n",
            "i     7\n",
            "j     7\n",
            "k     5\n",
            "o     8\n",
            "p    15\n",
            "q    15\n",
            "t     5\n",
            "u    19\n",
            "w     1\n",
            "dtype: int64\n"
          ]
        }
      ]
    },
    {
      "cell_type": "markdown",
      "source": [
        "Câu 7: Giả sử có series có kích thước (1x10), giá trị ngẫu nhiên, index được đánh từ ‘a’ trở đi,\n",
        "hãy:\n",
        "- Trích xuất các phần tử của Series có chỉ số là ‘a’, ‘c’, ‘e’\n",
        "- Trích xuất các phần tử của Series có chỉ số từ 3 đến 6"
      ],
      "metadata": {
        "id": "IHyzVNKHQzMr"
      }
    },
    {
      "cell_type": "code",
      "source": [
        "b = pd.Series(np.random.randint(1,10,[10]))\n",
        "l2 = ['a','b','c','d','e','f','g','h','i','j']\n",
        "b.index = l2\n",
        "print(b, \"\\n\")\n",
        "print(\"chi so a: \",b.loc['a'])\n",
        "print(\"chi so c: \",b.loc['c'])\n",
        "print(\"chi so e: \",b.loc['e'], \"\\n\")\n",
        "\n",
        "print(b)\n",
        "print(\"chi so tu 3 den 6: \", \"\\n\")\n",
        "print(b.iloc[3:7])\n"
      ],
      "metadata": {
        "colab": {
          "base_uri": "https://localhost:8080/"
        },
        "id": "0Djasgig1XdS",
        "outputId": "5913658a-8547-4a16-b42f-c3860aee0ca6"
      },
      "execution_count": 8,
      "outputs": [
        {
          "output_type": "stream",
          "name": "stdout",
          "text": [
            "a    9\n",
            "b    2\n",
            "c    8\n",
            "d    6\n",
            "e    5\n",
            "f    2\n",
            "g    3\n",
            "h    4\n",
            "i    3\n",
            "j    5\n",
            "dtype: int64 \n",
            "\n",
            "chi so a:  9\n",
            "chi so c:  8\n",
            "chi so e:  5 \n",
            "\n",
            "a    9\n",
            "b    2\n",
            "c    8\n",
            "d    6\n",
            "e    5\n",
            "f    2\n",
            "g    3\n",
            "h    4\n",
            "i    3\n",
            "j    5\n",
            "dtype: int64\n",
            "chi so tu 3 den 6:  \n",
            "\n",
            "d    6\n",
            "e    5\n",
            "f    2\n",
            "g    3\n",
            "dtype: int64\n"
          ]
        }
      ]
    }
  ]
}